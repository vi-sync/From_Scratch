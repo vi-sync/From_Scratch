{
 "cells": [
  {
   "cell_type": "code",
   "execution_count": 1,
   "id": "ac545892",
   "metadata": {},
   "outputs": [],
   "source": [
    "### from collections import Counter\n",
    "\n",
    "from tqdm import tqdm\n",
    "from scipy.sparse import csr_matrix\n",
    "from math import log10 \n",
    "import operator\n",
    "from sklearn.preprocessing import normalize\n",
    "from sklearn.feature_extraction.text import TfidfVectorizer\n",
    "import numpy\n",
    "import pickle\n",
    "import math\n",
    "from collections import Counter"
   ]
  },
  {
   "cell_type": "code",
   "execution_count": 2,
   "id": "fabc5f1e",
   "metadata": {},
   "outputs": [],
   "source": [
    "## SkLearn# Collection of string documents\n",
    "\n",
    "corpus = [\n",
    "     'this is the first document',\n",
    "     'this document is the second document',\n",
    "     'and this is the third one',\n",
    "     'is this the first document',\n",
    "    'He turned Random back and headed for the camp',\n",
    "    'So you just made a random deal with Darkyn.',\n",
    "    'The machine was set for \"random selection\" so no one was cheated.',\n",
    "    'Take all the webbing of a normal spider, wad it up and tangle everything together then attach it to random points',\n",
    "    'But, whilst recognizing the existence of local drifts and systems, and admitting the possibility of relative motion between the nearer and more distant, or other classes of stars, it is;only recently that astronomers have seriously doubted the correctness of the hypothesis of random distribution of stellar motions as at least a rough representation of the truth',\n",
    "    'She handed Dandy to Rob and Random to Aaron, introducing the horses by name',\n",
    "    'She opened the stall door to release Princess, Casper and Random in the pasture, and then saddled Ed.'\n",
    "]"
   ]
  },
  {
   "cell_type": "code",
   "execution_count": 3,
   "id": "5647bc0e",
   "metadata": {},
   "outputs": [
    {
     "data": {
      "text/plain": [
       "['this is the first document',\n",
       " 'this document is the second document',\n",
       " 'and this is the third one',\n",
       " 'is this the first document',\n",
       " 'He turned Random back and headed for the camp',\n",
       " 'So you just made a random deal with Darkyn.',\n",
       " 'The machine was set for \"random selection\" so no one was cheated.',\n",
       " 'Take all the webbing of a normal spider, wad it up and tangle everything together then attach it to random points',\n",
       " 'But, whilst recognizing the existence of local drifts and systems, and admitting the possibility of relative motion between the nearer and more distant, or other classes of stars, it is;only recently that astronomers have seriously doubted the correctness of the hypothesis of random distribution of stellar motions as at least a rough representation of the truth',\n",
       " 'She handed Dandy to Rob and Random to Aaron, introducing the horses by name',\n",
       " 'She opened the stall door to release Princess, Casper and Random in the pasture, and then saddled Ed.']"
      ]
     },
     "execution_count": 3,
     "metadata": {},
     "output_type": "execute_result"
    }
   ],
   "source": []
  },
  {
   "cell_type": "code",
   "execution_count": 5,
   "id": "415f7b98",
   "metadata": {},
   "outputs": [
    {
     "name": "stderr",
     "output_type": "stream",
     "text": [
      "100%|████████████████████████████████████████████████████████████████████████████████| 11/11 [00:00<00:00, 5513.54it/s]"
     ]
    },
    {
     "name": "stdout",
     "output_type": "stream",
     "text": [
      "shape is 11 x 105\n"
     ]
    },
    {
     "name": "stderr",
     "output_type": "stream",
     "text": [
      "\n"
     ]
    }
   ],
   "source": [
    "def fit(dataset):\n",
    "    unique_words=set()\n",
    "    if isinstance(dataset,(list,)):\n",
    "        for document in dataset:\n",
    "            \n",
    "            for word in document.split(\" \"):\n",
    "               \n",
    "                if len(word) <2:\n",
    "                    continue\n",
    "                unique_words.add(word)\n",
    "        unique_words=sorted(list(unique_words))\n",
    "        \n",
    "        vocab={j:i for i,j in  enumerate(unique_words)}\n",
    "        return vocab\n",
    "    else:\n",
    "        return print(\"you need to pass list of sentance\")\n",
    "    \n",
    "       \n",
    "def cal_idf(dataset,word):\n",
    "    count=0\n",
    "    for doc in dataset:\n",
    "        #print(doc)\n",
    "        if word in doc.split():\n",
    "            #print(word,'     wword in idf')\n",
    "            count+=1\n",
    "    return count  \n",
    "\n",
    "        \n",
    "        \n",
    "def transform(dataset,vocab):\n",
    "    rows=[]\n",
    "    columns=[]\n",
    "    values=[]\n",
    "    if isinstance(dataset,(list,)):\n",
    "        for index,row in enumerate(tqdm(dataset)):\n",
    "            #print(index,row,'      index and row')\n",
    "            word_freq=dict(Counter(row.split()))\n",
    "            #print(word_freq,'          word frequ')\n",
    "            \n",
    "            for word,freq in word_freq.items():\n",
    "                if len(word) <2:\n",
    "                    continue\n",
    "                column_index=vocab.get(word,-1)\n",
    "                if (column_index !=-1):\n",
    "                    rows.append(index)\n",
    "                    columns.append(column_index)\n",
    "                    #modifications to the formula of calculating idf \n",
    "                    term_freq=freq/len(row.split()) #calculating the term freq score\n",
    "                    idf_score= 1+math.log((1+len(dataset))/float(1+cal_idf(dataset,word))) #calc the idf score\n",
    "                    tfidf=term_freq*(idf_score)\n",
    "                    values.append(tfidf)\n",
    "                    \n",
    "        print('shape is',len(dataset),\"x\",len(vocab))\n",
    "    \n",
    "    \n",
    "        #applying l2 normalizatiion to the sparse matrix\n",
    "        return normalize(csr_matrix((values, (rows,columns)), shape=(len(dataset),len(vocab))),norm='l2')\n",
    "    else:\n",
    "        return(\"you need to pass list of sentance\")\n",
    "            \n",
    "vocab=fit(corpus)\n",
    "#print(\"vocab is\",vocab )\n",
    "sparse_matrix = transform(corpus,vocab)\n",
    "\n"
   ]
  },
  {
   "cell_type": "code",
   "execution_count": 9,
   "id": "f62a1e72",
   "metadata": {},
   "outputs": [
    {
     "name": "stdout",
     "output_type": "stream",
     "text": [
      "  (0, 32)\t0.4875062100667815\n",
      "  (0, 38)\t0.5543345602115016\n",
      "  (0, 47)\t0.43567011457194715\n",
      "  (0, 90)\t0.27465249505361694\n",
      "  (0, 93)\t0.43567011457194715\n",
      "5\n"
     ]
    }
   ],
   "source": [
    "print(sparse_matrix[0])\n",
    "print(len(corpus[0].split(' ')))"
   ]
  },
  {
   "cell_type": "code",
   "execution_count": null,
   "id": "32a4e6a5",
   "metadata": {},
   "outputs": [],
   "source": []
  }
 ],
 "metadata": {
  "kernelspec": {
   "display_name": "Python 3",
   "language": "python",
   "name": "python3"
  },
  "language_info": {
   "codemirror_mode": {
    "name": "ipython",
    "version": 3
   },
   "file_extension": ".py",
   "mimetype": "text/x-python",
   "name": "python",
   "nbconvert_exporter": "python",
   "pygments_lexer": "ipython3",
   "version": "3.6.5"
  }
 },
 "nbformat": 4,
 "nbformat_minor": 5
}
